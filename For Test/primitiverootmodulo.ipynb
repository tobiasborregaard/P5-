{
 "cells": [
  {
   "cell_type": "code",
   "execution_count": 8,
   "metadata": {},
   "outputs": [
    {
     "name": "stderr",
     "output_type": "stream",
     "text": [
      "Checking Divisors: 100%|██████████| 36/36 [00:00<?, ?it/s]"
     ]
    },
    {
     "name": "stdout",
     "output_type": "stream",
     "text": [
      "Is Primitive Root: True\n"
     ]
    },
    {
     "name": "stderr",
     "output_type": "stream",
     "text": [
      "\n"
     ]
    }
   ],
   "source": [
    "from math import gcd\n",
    "from tqdm import tqdm\n",
    "\n",
    "def phi(n):\n",
    "    \"\"\"Compute Euler's Totient Function for a prime n.\"\"\"\n",
    "    return n - 1\n",
    "\n",
    "def get_divisors(n):\n",
    "    \"\"\"Get all divisors of n.\"\"\"\n",
    "    divisors = set()\n",
    "    for i in range(1, int(n**0.5) + 1):\n",
    "        if n % i == 0:\n",
    "            divisors.add(i)\n",
    "            divisors.add(n // i)\n",
    "    return divisors\n",
    "\n",
    "def is_primitive_root(primitive_root, prime):\n",
    "    \"\"\"Check if a number is a primitive root modulo a prime.\"\"\"\n",
    "    phi_n = phi(prime)\n",
    "    divisors = get_divisors(phi_n)\n",
    "\n",
    "    for d in tqdm(divisors, desc=\"Checking Divisors\"):\n",
    "        if d == phi_n:\n",
    "            continue  # Skip the totient itself\n",
    "        if pow(primitive_root, d, prime) == 1:\n",
    "            return False\n",
    "    return True\n",
    "\n",
    "# Given prime number and candidate for primitive root\n",
    "prime = 707898413\n",
    "candidate = 2\n",
    "\n",
    "\n",
    "# Check if the candidate is a primitive root modulo the prime\n",
    "result = is_primitive_root(candidate, prime)\n",
    "\n",
    "print(\"Is Primitive Root:\", result)\n"
   ]
  }
 ],
 "metadata": {
  "kernelspec": {
   "display_name": "Python 3",
   "language": "python",
   "name": "python3"
  },
  "language_info": {
   "codemirror_mode": {
    "name": "ipython",
    "version": 3
   },
   "file_extension": ".py",
   "mimetype": "text/x-python",
   "name": "python",
   "nbconvert_exporter": "python",
   "pygments_lexer": "ipython3",
   "version": "3.11.2"
  }
 },
 "nbformat": 4,
 "nbformat_minor": 2
}
